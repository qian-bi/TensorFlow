{
 "cells": [
  {
   "cell_type": "code",
   "execution_count": 1,
   "metadata": {
    "collapsed": true
   },
   "outputs": [],
   "source": [
    "import numpy as np\n",
    "import tensorflow as tf"
   ]
  },
  {
   "cell_type": "markdown",
   "metadata": {},
   "source": [
    "### 生成随机数 ###"
   ]
  },
  {
   "cell_type": "code",
   "execution_count": 2,
   "metadata": {
    "collapsed": true
   },
   "outputs": [],
   "source": [
    "x_data = np.float32(np.random.rand(2, 100))\n",
    "y_data = np.dot([0.1, 0.2], x_data) + 0.3"
   ]
  },
  {
   "cell_type": "markdown",
   "metadata": {},
   "source": [
    "### 构造线性模型 ###"
   ]
  },
  {
   "cell_type": "code",
   "execution_count": 3,
   "metadata": {
    "collapsed": true
   },
   "outputs": [],
   "source": [
    "b = tf.Variable(tf.zeros([1]))\n",
    "w = tf.Variable(tf.random_uniform([1, 2], -1, 1))\n",
    "y = tf.matmul(w, x_data) + b"
   ]
  },
  {
   "cell_type": "markdown",
   "metadata": {},
   "source": [
    "### 最小化方差 ###"
   ]
  },
  {
   "cell_type": "code",
   "execution_count": 4,
   "metadata": {
    "collapsed": true
   },
   "outputs": [],
   "source": [
    "loss = tf.reduce_mean(tf.square(y - y_data))\n",
    "optimizer = tf.train.GradientDescentOptimizer(0.5)\n",
    "train = optimizer.minimize(loss)"
   ]
  },
  {
   "cell_type": "markdown",
   "metadata": {},
   "source": [
    "### 变量初始化 ###"
   ]
  },
  {
   "cell_type": "code",
   "execution_count": 5,
   "metadata": {
    "collapsed": true
   },
   "outputs": [],
   "source": [
    "init = tf.global_variables_initializer()"
   ]
  },
  {
   "cell_type": "markdown",
   "metadata": {},
   "source": [
    "### 启动图 (graph) ###"
   ]
  },
  {
   "cell_type": "code",
   "execution_count": 9,
   "metadata": {
    "collapsed": true
   },
   "outputs": [],
   "source": [
    "sess = tf.Session()\n",
    "sess.run(init)"
   ]
  },
  {
   "cell_type": "markdown",
   "metadata": {},
   "source": [
    "### 拟合平面 ###"
   ]
  },
  {
   "cell_type": "code",
   "execution_count": 10,
   "metadata": {},
   "outputs": [
    {
     "name": "stdout",
     "output_type": "stream",
     "text": [
      "[[ 0.39780831 -0.59007168]] [ 0.]\n",
      "0 [[ 0.62708688 -0.2298685 ]] [ 0.56490123]\n",
      "20 [[ 0.16978718  0.11723565]] [ 0.31150842]\n",
      "40 [[ 0.11123225  0.18717617]] [ 0.30158436]\n",
      "60 [[ 0.10184457  0.19803901]] [ 0.30018207]\n",
      "80 [[ 0.10031363  0.19970798]] [ 0.30000865]\n",
      "100 [[ 0.10005639  0.19995891]] [ 0.29999542]\n",
      "120 [[ 0.10001098  0.199995  ]] [ 0.29999751]\n",
      "140 [[ 0.10000236  0.19999965]] [ 0.29999906]\n",
      "160 [[ 0.10000057  0.20000008]] [ 0.29999968]\n",
      "180 [[ 0.10000015  0.20000002]] [ 0.29999992]\n",
      "200 [[ 0.10000008  0.20000002]] [ 0.29999995]\n",
      "220 [[ 0.10000008  0.20000002]] [ 0.29999995]\n",
      "240 [[ 0.10000008  0.20000002]] [ 0.29999995]\n",
      "260 [[ 0.10000008  0.20000002]] [ 0.29999995]\n",
      "280 [[ 0.10000008  0.20000002]] [ 0.29999995]\n",
      "300 [[ 0.10000008  0.20000002]] [ 0.29999995]\n"
     ]
    }
   ],
   "source": [
    "for step in range(0, 301):\n",
    "    sess.run(train)\n",
    "    if step % 20 == 0:\n",
    "        print(step, sess.run(w), sess.run(b))\n",
    "\n",
    "sess.close()"
   ]
  },
  {
   "cell_type": "code",
   "execution_count": null,
   "metadata": {
    "collapsed": true
   },
   "outputs": [],
   "source": []
  }
 ],
 "metadata": {
  "kernelspec": {
   "display_name": "Python 3",
   "language": "python",
   "name": "python3"
  },
  "language_info": {
   "codemirror_mode": {
    "name": "ipython",
    "version": 3
   },
   "file_extension": ".py",
   "mimetype": "text/x-python",
   "name": "python",
   "nbconvert_exporter": "python",
   "pygments_lexer": "ipython3",
   "version": "3.6.2"
  }
 },
 "nbformat": 4,
 "nbformat_minor": 2
}
