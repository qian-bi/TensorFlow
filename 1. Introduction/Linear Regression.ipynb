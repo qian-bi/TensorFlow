{
 "cells": [
  {
   "cell_type": "code",
   "execution_count": 1,
   "metadata": {
    "collapsed": true
   },
   "outputs": [],
   "source": [
    "import numpy as np\n",
    "import tensorflow as tf\n",
    "import matplotlib.pyplot as plt"
   ]
  },
  {
   "cell_type": "code",
   "execution_count": 13,
   "metadata": {
    "collapsed": true
   },
   "outputs": [],
   "source": [
    "learning_rate = 0.01\n",
    "training_epochs = 2000\n",
    "display_step = 50"
   ]
  },
  {
   "cell_type": "code",
   "execution_count": 3,
   "metadata": {
    "collapsed": true
   },
   "outputs": [],
   "source": [
    "train_X = np.asarray([3.3, 4.4, 5.5, 6.71, 6.93, 4.168, 9.779,\n",
    "                      6.182, 7.59, 2.167, 7.042, 10.791, 5.313,\n",
    "                      7.997, 5.654, 9.27, 3.1])\n",
    "train_Y = np.asarray([1.7, 2.76, 2.09, 3.19, 1.694, 1.573, 3.366,\n",
    "                      2.596, 2.53, 1.221, 2.827, 3.465, 1.65,\n",
    "                      2.904, 2.42, 2.94, 1.3])\n",
    "n_samples = train_X.shape[0]"
   ]
  },
  {
   "cell_type": "code",
   "execution_count": 4,
   "metadata": {
    "collapsed": true
   },
   "outputs": [],
   "source": [
    "X = tf.placeholder('float')\n",
    "Y = tf.placeholder('float')"
   ]
  },
  {
   "cell_type": "code",
   "execution_count": 5,
   "metadata": {
    "collapsed": true
   },
   "outputs": [],
   "source": [
    "W = tf.Variable(np.random.randn(), name='weight')\n",
    "b = tf.Variable(np.random.randn(), name='bias')"
   ]
  },
  {
   "cell_type": "code",
   "execution_count": 6,
   "metadata": {
    "collapsed": true
   },
   "outputs": [],
   "source": [
    "activation = tf.add(tf.multiply(X, W), b)"
   ]
  },
  {
   "cell_type": "code",
   "execution_count": 7,
   "metadata": {
    "collapsed": true
   },
   "outputs": [],
   "source": [
    "cost = tf.reduce_sum(tf.pow(activation - Y, 2)) / (2 * n_samples)\n",
    "optimizer = tf.train.GradientDescentOptimizer(learning_rate).minimize(cost)"
   ]
  },
  {
   "cell_type": "code",
   "execution_count": 8,
   "metadata": {
    "collapsed": true
   },
   "outputs": [],
   "source": [
    "init = tf.global_variables_initializer()"
   ]
  },
  {
   "cell_type": "code",
   "execution_count": 17,
   "metadata": {},
   "outputs": [
    {
     "name": "stdout",
     "output_type": "stream",
     "text": [
      "Epoch:    1, cost = 0.0075, W = -0.2331, b = 1.5192\n",
      "Epoch:   51, cost = 0.0139, W = 0.1488, b = 1.5268\n",
      "Epoch:  101, cost = 0.0129, W = 0.1548, b = 1.4837\n",
      "Epoch:  151, cost = 0.0121, W = 0.1604, b = 1.4431\n",
      "Epoch:  201, cost = 0.0113, W = 0.1657, b = 1.4049\n",
      "Epoch:  251, cost = 0.0105, W = 0.1707, b = 1.3691\n",
      "Epoch:  301, cost = 0.0099, W = 0.1754, b = 1.3353\n",
      "Epoch:  351, cost = 0.0093, W = 0.1798, b = 1.3035\n",
      "Epoch:  401, cost = 0.0087, W = 0.1840, b = 1.2737\n",
      "Epoch:  451, cost = 0.0082, W = 0.1879, b = 1.2456\n",
      "Epoch:  501, cost = 0.0077, W = 0.1915, b = 1.2192\n",
      "Epoch:  551, cost = 0.0073, W = 0.1950, b = 1.1943\n",
      "Epoch:  601, cost = 0.0069, W = 0.1982, b = 1.1710\n",
      "Epoch:  651, cost = 0.0066, W = 0.2013, b = 1.1490\n",
      "Epoch:  701, cost = 0.0063, W = 0.2042, b = 1.1283\n",
      "Epoch:  751, cost = 0.0060, W = 0.2069, b = 1.1089\n",
      "Epoch:  801, cost = 0.0057, W = 0.2094, b = 1.0906\n",
      "Epoch:  851, cost = 0.0054, W = 0.2118, b = 1.0734\n",
      "Epoch:  901, cost = 0.0052, W = 0.2140, b = 1.0572\n",
      "Epoch:  951, cost = 0.0050, W = 0.2162, b = 1.0420\n",
      "Epoch: 1001, cost = 0.0048, W = 0.2181, b = 1.0277\n",
      "Epoch: 1051, cost = 0.0046, W = 0.2200, b = 1.0143\n",
      "Epoch: 1101, cost = 0.0045, W = 0.2218, b = 1.0016\n",
      "Epoch: 1151, cost = 0.0043, W = 0.2234, b = 0.9897\n",
      "Epoch: 1201, cost = 0.0042, W = 0.2250, b = 0.9785\n",
      "Epoch: 1251, cost = 0.0040, W = 0.2264, b = 0.9680\n",
      "Epoch: 1301, cost = 0.0039, W = 0.2278, b = 0.9581\n",
      "Epoch: 1351, cost = 0.0038, W = 0.2291, b = 0.9488\n",
      "Epoch: 1401, cost = 0.0037, W = 0.2303, b = 0.9400\n",
      "Epoch: 1451, cost = 0.0036, W = 0.2315, b = 0.9318\n",
      "Epoch: 1501, cost = 0.0035, W = 0.2326, b = 0.9240\n",
      "Epoch: 1551, cost = 0.0034, W = 0.2336, b = 0.9167\n",
      "Epoch: 1601, cost = 0.0033, W = 0.2345, b = 0.9099\n",
      "Epoch: 1651, cost = 0.0033, W = 0.2354, b = 0.9034\n",
      "Epoch: 1701, cost = 0.0032, W = 0.2363, b = 0.8974\n",
      "Epoch: 1751, cost = 0.0031, W = 0.2371, b = 0.8917\n",
      "Epoch: 1801, cost = 0.0031, W = 0.2378, b = 0.8863\n",
      "Epoch: 1851, cost = 0.0030, W = 0.2385, b = 0.8813\n",
      "Epoch: 1901, cost = 0.0030, W = 0.2392, b = 0.8765\n",
      "Epoch: 1951, cost = 0.0029, W = 0.2398, b = 0.8720\n",
      "Optimization Finished!\n",
      "Epoch: 2000, cost = 0.0029, W = 0.2404, b = 0.8679\n"
     ]
    },
    {
     "data": {
      "image/png": "[encoded data removed]",
      "text/plain": [
       "<matplotlib.figure.Figure at 0x1d01ebd3c18>"
      ]
     },
     "metadata": {},
     "output_type": "display_data"
    }
   ],
   "source": [
    "with tf.Session() as sess:\n",
    "    sess.run(init)\n",
    "\n",
    "    for epoch in range(training_epochs):\n",
    "        for (x, y) in zip(train_X, train_Y):\n",
    "            sess.run(optimizer, feed_dict={X: x, Y: y})\n",
    "\n",
    "        if epoch % display_step == 0:\n",
    "            print('Epoch: {:>4}, cost = {:.4f}, W = {:.4f}, b = {:.4f}'.format(\n",
    "                epoch + 1, sess.run(cost, feed_dict={X:x, Y: y}),\n",
    "                sess.run(W), sess.run(b)))\n",
    "\n",
    "    print('Optimization Finished!')\n",
    "    print('Epoch: {:>4}, cost = {:.4f}, W = {:.4f}, b = {:.4f}'.format(\n",
    "        epoch + 1, sess.run(cost, feed_dict={X:x, Y: y}),\n",
    "        sess.run(W), sess.run(b)))\n",
    "    \n",
    "    plt.plot(train_X, train_Y, 'ro', label='Original data')\n",
    "    plt.plot(train_X, sess.run(W) * train_X + sess.run(b), label='Fitted line')\n",
    "    plt.legend()\n",
    "    plt.show()"
   ]
  },
  {
   "cell_type": "code",
   "execution_count": null,
   "metadata": {
    "collapsed": true
   },
   "outputs": [],
   "source": []
  }
 ],
 "metadata": {
  "kernelspec": {
   "display_name": "Python 3",
   "language": "python",
   "name": "python3"
  },
  "language_info": {
   "codemirror_mode": {
    "name": "ipython",
    "version": 3
   },
   "file_extension": ".py",
   "mimetype": "text/x-python",
   "name": "python",
   "nbconvert_exporter": "python",
   "pygments_lexer": "ipython3",
   "version": "3.6.2"
  }
 },
 "nbformat": 4,
 "nbformat_minor": 2
}
