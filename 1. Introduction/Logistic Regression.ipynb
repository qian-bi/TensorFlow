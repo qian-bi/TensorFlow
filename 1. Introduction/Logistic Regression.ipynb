{
 "cells": [
  {
   "cell_type": "code",
   "execution_count": 1,
   "metadata": {},
   "outputs": [],
   "source": [
    "import tensorflow as tf\n",
    "from tensorflow.examples.tutorials.mnist import input_data"
   ]
  },
  {
   "cell_type": "code",
   "execution_count": 10,
   "metadata": {},
   "outputs": [
    {
     "name": "stdout",
     "output_type": "stream",
     "text": [
      "Extracting ../data\\train-images-idx3-ubyte.gz\n",
      "Extracting ../data\\train-labels-idx1-ubyte.gz\n",
      "Extracting ../data\\t10k-images-idx3-ubyte.gz\n",
      "Extracting ../data\\t10k-labels-idx1-ubyte.gz\n"
     ]
    }
   ],
   "source": [
    "mnist = input_data.read_data_sets('../data', one_hot=True)"
   ]
  },
  {
   "cell_type": "code",
   "execution_count": 3,
   "metadata": {
    "collapsed": true
   },
   "outputs": [],
   "source": [
    "learning_rate = 0.01\n",
    "training_epochs = 25\n",
    "batch_size = 100\n",
    "display_step = 1"
   ]
  },
  {
   "cell_type": "code",
   "execution_count": 4,
   "metadata": {
    "collapsed": true
   },
   "outputs": [],
   "source": [
    "x = tf.placeholder(tf.float32, [None, 784])\n",
    "y = tf.placeholder(tf.float32, [None, 10])"
   ]
  },
  {
   "cell_type": "code",
   "execution_count": 5,
   "metadata": {
    "collapsed": true
   },
   "outputs": [],
   "source": [
    "W = tf.Variable(tf.zeros([784, 10]))\n",
    "b = tf.Variable(tf.zeros([10]))"
   ]
  },
  {
   "cell_type": "code",
   "execution_count": 6,
   "metadata": {
    "collapsed": true
   },
   "outputs": [],
   "source": [
    "pred = tf.nn.softmax(tf.matmul(x, W) + b)"
   ]
  },
  {
   "cell_type": "code",
   "execution_count": 7,
   "metadata": {
    "collapsed": true
   },
   "outputs": [],
   "source": [
    "cost = tf.reduce_mean(-tf.reduce_sum(y * tf.log(pred), reduction_indices=1))\n",
    "optimizer = tf.train.GradientDescentOptimizer(learning_rate).minimize(cost)"
   ]
  },
  {
   "cell_type": "code",
   "execution_count": 8,
   "metadata": {
    "collapsed": true
   },
   "outputs": [],
   "source": [
    "init = tf.global_variables_initializer()"
   ]
  },
  {
   "cell_type": "code",
   "execution_count": 9,
   "metadata": {},
   "outputs": [
    {
     "name": "stdout",
     "output_type": "stream",
     "text": [
      "Epoch:  1, cost = 1.1837\n",
      "Epoch:  2, cost = 0.6653\n",
      "Epoch:  3, cost = 0.5528\n",
      "Epoch:  4, cost = 0.4987\n",
      "Epoch:  5, cost = 0.4655\n",
      "Epoch:  6, cost = 0.4426\n",
      "Epoch:  7, cost = 0.4255\n",
      "Epoch:  8, cost = 0.4122\n",
      "Epoch:  9, cost = 0.4014\n",
      "Epoch: 10, cost = 0.3924\n",
      "Epoch: 11, cost = 0.3848\n",
      "Epoch: 12, cost = 0.3782\n",
      "Epoch: 13, cost = 0.3724\n",
      "Epoch: 14, cost = 0.3673\n",
      "Epoch: 15, cost = 0.3628\n",
      "Epoch: 16, cost = 0.3587\n",
      "Epoch: 17, cost = 0.3548\n",
      "Epoch: 18, cost = 0.3514\n",
      "Epoch: 19, cost = 0.3483\n",
      "Epoch: 20, cost = 0.3454\n",
      "Epoch: 21, cost = 0.3428\n",
      "Epoch: 22, cost = 0.3402\n",
      "Epoch: 23, cost = 0.3379\n",
      "Epoch: 24, cost = 0.3358\n",
      "Epoch: 25, cost = 0.3337\n",
      "Optimization Finished!\n",
      "Accuracy: 0.9136000871658325\n"
     ]
    }
   ],
   "source": [
    "with tf.Session() as sess:\n",
    "    sess.run(init)\n",
    "    \n",
    "    for epoch in range(training_epochs):\n",
    "        avg_cost = 0\n",
    "        total_batch = int(mnist.train.num_examples / batch_size)\n",
    "        \n",
    "        for i in range(total_batch):\n",
    "            batch_xs, batch_ys = mnist.train.next_batch(batch_size)\n",
    "            _, c = sess.run([optimizer, cost], feed_dict={x: batch_xs, y: batch_ys})\n",
    "            avg_cost += c / total_batch\n",
    "        \n",
    "        if (epoch + 1) % display_step == 0:\n",
    "            print('Epoch: {:>2}, cost = {:.4f}'.format(epoch + 1, avg_cost))\n",
    "    \n",
    "    print('Optimization Finished!')\n",
    "    \n",
    "    correct_prediction = tf.equal(tf.argmax(pred, 1), tf.arg_max(y, 1))\n",
    "    accuracy = tf.reduce_mean(tf.cast(correct_prediction, tf.float32))\n",
    "    print('Accuracy: {}'.format(accuracy.eval({x: mnist.test.images, y: mnist.test.labels})))"
   ]
  },
  {
   "cell_type": "code",
   "execution_count": null,
   "metadata": {
    "collapsed": true
   },
   "outputs": [],
   "source": []
  }
 ],
 "metadata": {
  "kernelspec": {
   "display_name": "Python 3",
   "language": "python",
   "name": "python3"
  },
  "language_info": {
   "codemirror_mode": {
    "name": "ipython",
    "version": 3
   },
   "file_extension": ".py",
   "mimetype": "text/x-python",
   "name": "python",
   "nbconvert_exporter": "python",
   "pygments_lexer": "ipython3",
   "version": "3.6.2"
  }
 },
 "nbformat": 4,
 "nbformat_minor": 2
}
